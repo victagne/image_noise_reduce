{
 "cells": [
  {
   "cell_type": "code",
   "execution_count": 1,
   "metadata": {},
   "outputs": [],
   "source": [
    "import numpy as np\n",
    "\n",
    "train_images_data = np.load('./input/train_images.npy', encoding = 'latin1')\n",
    "train_labels_data = np.genfromtxt('./input/train_labels.csv', names=True, delimiter=',',\n",
    "                        dtype=[('Id', 'i8'), ('Category', 'S16')])"
   ]
  },
  {
   "cell_type": "code",
   "execution_count": 2,
   "metadata": {
    "scrolled": true
   },
   "outputs": [
    {
     "name": "stdout",
     "output_type": "stream",
     "text": [
      "{0: 'shovel', 1: 'rifle', 2: 'scorpion', 3: 'apple', 4: 'spoon', 5: 'pineapple', 6: 'mouth', 7: 'skateboard', 8: 'rollerskates', 9: 'peanut', 10: 'rabbit', 11: 'sink', 12: 'sailboat', 13: 'nose', 14: 'skull', 15: 'pool', 16: 'pear', 17: 'pillow', 18: 'penguin', 19: 'nail', 20: 'pencil', 21: 'empty', 22: 'octagon', 23: 'moustache', 24: 'paintbrush', 25: 'panda', 26: 'parrot', 27: 'screwdriver', 28: 'squiggle', 29: 'rhinoceros', 30: 'mug'}\n",
      "{'shovel': 0, 'rifle': 1, 'scorpion': 2, 'apple': 3, 'spoon': 4, 'pineapple': 5, 'mouth': 6, 'skateboard': 7, 'rollerskates': 8, 'peanut': 9, 'rabbit': 10, 'sink': 11, 'sailboat': 12, 'nose': 13, 'skull': 14, 'pool': 15, 'pear': 16, 'pillow': 17, 'penguin': 18, 'nail': 19, 'pencil': 20, 'empty': 21, 'octagon': 22, 'moustache': 23, 'paintbrush': 24, 'panda': 25, 'parrot': 26, 'screwdriver': 27, 'squiggle': 28, 'rhinoceros': 29, 'mug': 30}\n",
      "(10000, 10000) (10000,)\n",
      "number of class =  31\n"
     ]
    }
   ],
   "source": [
    "# debug(train_images_data.shape, train_labels_data.shape)\n",
    "sample_size = train_images_data.shape[0]\n",
    "sample_features = len(train_images_data[0][1])\n",
    "\n",
    "train_images = np.vstack(train_images_data[:, 1])\n",
    "train_labels = np.zeros((sample_size, ), dtype = np.long)\n",
    "\n",
    "label_to_int, int_to_label = {}, {}\n",
    "\n",
    "label_i = 0 # first label index\n",
    "for i, train_label in train_labels_data:\n",
    "    train_label = train_label.decode(\"utf-8\")\n",
    "    if label_to_int.get(train_label) is None:\n",
    "        label_to_int[train_label] = label_i\n",
    "        train_labels[i] = label_i\n",
    "        label_i += 1\n",
    "    else:\n",
    "        train_labels[i] = label_to_int[train_label]\n",
    "        \n",
    "for key, value in label_to_int.items():\n",
    "    int_to_label[value] = key   \n",
    "    \n",
    "print(int_to_label)\n",
    "print(label_to_int)\n",
    "print(train_images.shape, train_labels.shape)\n",
    "\n",
    "n_class = len(int_to_label)\n",
    "print(\"number of class = \", n_class)"
   ]
  },
  {
   "cell_type": "markdown",
   "metadata": {},
   "source": [
    "## Noise Reduction"
   ]
  },
  {
   "cell_type": "code",
   "execution_count": 3,
   "metadata": {},
   "outputs": [],
   "source": [
    "class DFS: \n",
    "    def __init__(self, my_shape, matrix): \n",
    "        self.row = my_shape[0]\n",
    "        self.col = my_shape[1]\n",
    "        self.matrix = matrix\n",
    "        \n",
    "    def is_safe(self, i, j, visited): \n",
    "        return (i >= 0 and i < self.row and \n",
    "                j >= 0 and j < self.col and \n",
    "                not visited[i, j] and self.matrix[i, j] > 0)\n",
    "    \n",
    "    def get_all_neighborhood(self, i, j, visited, points):\n",
    "        \"\"\"get all points connected to point [i, j]\n",
    "        Params\n",
    "            i, j: row and col index of a given point, int, int\n",
    "            visited: mark whether a point is visited or not, narray\n",
    "            points: connected neighbors of point [i, j],list\n",
    "        Returns\n",
    "            points: \n",
    "        \"\"\"\n",
    "        points.append((i, j))\n",
    "        visited[i, j] = True\n",
    "        nbrs_row = [-1, -1, -1,  0, 0,  1, 1, 1]; \n",
    "        nbrs_col = [-1,  0,  1, -1, 1, -1, 0, 1];   \n",
    "        # Recur for all connected neighbours \n",
    "        for k in range(8): # max neighbor numbers\n",
    "            if self.is_safe(i + nbrs_row[k], j + nbrs_col[k], visited): \n",
    "                self.get_all_neighborhood(i + nbrs_row[k], j + nbrs_col[k], visited, points)\n",
    "        return points\n",
    "    \n",
    "    \n",
    "def get_region_size(matrix, row, col):\n",
    "    if row < 0 or col < 0 or row >= len(matrix) or col >= len(matrix[row]):\n",
    "        return 0\n",
    "    \n",
    "    if matrix[row, col] == 0:\n",
    "        return 0\n",
    "    \n",
    "    matrix[row, col] = 0 # avoid repeated counting\n",
    "    size = 1\n",
    "    for r in range(row - 1, row + 2):\n",
    "        for c in range(col - 1, col + 2):\n",
    "            if r != row or c != col:\n",
    "                size += get_region_size(matrix, r, c)\n",
    "    return size\n",
    "\n",
    "def get_biggest_region(matrix, m_shape):\n",
    "    max_region_size = 0\n",
    "    rows, cols = m_shape\n",
    "    x, y = 0, 0\n",
    "    for r in range(rows):\n",
    "        for c in range(cols):\n",
    "            if matrix[r, c] > 0:\n",
    "                size = get_region_size(matrix, r, c)\n",
    "                if size > max_region_size:\n",
    "                    x, y = r, c\n",
    "                    max_region_size = size\n",
    "    return max_region_size, x, y    "
   ]
  },
  {
   "cell_type": "markdown",
   "metadata": {},
   "source": [
    "### reduce noise"
   ]
  },
  {
   "cell_type": "code",
   "execution_count": 4,
   "metadata": {},
   "outputs": [],
   "source": [
    "def reduce_noise(X, img_size = (100, 100)):\n",
    "    # some function (get_region_size) changes original data as parameters.\n",
    "    X_copy = copy.deepcopy(X)\n",
    "    for i, x in enumerate(X_copy):\n",
    "        img = x.reshape(img_size)\n",
    "        img_copy = copy.deepcopy(img)\n",
    "        max_region_size, x, y = get_biggest_region(img_copy, img_size)\n",
    "        m = DFS(img_size, img)\n",
    "        visited = np.zeros(img_size)\n",
    "        points = m.get_all_neighborhood(x, y, visited, [])\n",
    "\n",
    "        img_target = np.zeros(old_img_size)\n",
    "        for p in points:\n",
    "            img_target[p[0], p[1]] = img[p[0], p[1]]\n",
    "        X_copy[i] = img_target.reshape(-1, )\n",
    "        print_progress(100 * (i+1)/len(X_copy))\n",
    "    \n",
    "    return X_copy"
   ]
  },
  {
   "cell_type": "code",
   "execution_count": 5,
   "metadata": {},
   "outputs": [
    {
     "name": "stdout",
     "output_type": "stream",
     "text": [
      "trying loading noise reduced data from file...\n",
      "successfully loaded.\n",
      "(10000, 10000)\n"
     ]
    }
   ],
   "source": [
    "old_img_size = (100, 100)\n",
    "file_train_X = './input/noise_reduced_train_X.npy'\n",
    "# np.save(file_train_X, train_X)\n",
    "\n",
    "try:\n",
    "    print(\"trying loading noise reduced data from file...\")\n",
    "    train_X = np.load(file_train_X, encoding = 'latin1')\n",
    "    print(\"successfully loaded.\")\n",
    "except:\n",
    "    train_X = reduce_noise(train_images, img_size = old_img_size)\n",
    "    np.save(file_train_X, train_X)\n",
    "    print(\"saving train_X to file: {}\".format(file_train_X))\n",
    "\n",
    "print(train_X.shape)"
   ]
  },
  {
   "cell_type": "code",
   "execution_count": 10,
   "metadata": {},
   "outputs": [
    {
     "name": "stdout",
     "output_type": "stream",
     "text": [
      "image id:1256, class_id:0, class:shovel\n"
     ]
    },
    {
     "data": {
      "image/png": "[encoded data removed]",
      "text/plain": [
       "<Figure size 648x216 with 2 Axes>"
      ]
     },
     "metadata": {},
     "output_type": "display_data"
    }
   ],
   "source": [
    "import matplotlib.pyplot as plt\n",
    "\n",
    "def show_images(Xs, labels = None):\n",
    "    Xs = list(Xs)\n",
    "    n = len(Xs)\n",
    "    plt.figure(figsize = (3*(n+1), 3))\n",
    "    rdn = np.random.randint(0, Xs[0].shape[0])\n",
    "    if labels is not None:\n",
    "        print(\"image id:{}, class_id:{}, class:{}\".format(\n",
    "            rdn, labels[rdn], int_to_label[labels[rdn]]))\n",
    "    else:\n",
    "        print(\"id:{}\".format(rdn))\n",
    "    for i, X in enumerate(Xs):\n",
    "        plt.subplot(1, n, i+1)\n",
    "        size = int(np.sqrt(X.shape[1]))\n",
    "        plt.imshow(X[rdn].reshape(size, size))\n",
    "    plt.show()\n",
    "        \n",
    "show_images([train_X, train_images], train_labels)"
   ]
  },
  {
   "cell_type": "code",
   "execution_count": null,
   "metadata": {},
   "outputs": [],
   "source": []
  }
 ],
 "metadata": {
  "kernelspec": {
   "display_name": "Python 3",
   "language": "python",
   "name": "python3"
  },
  "language_info": {
   "codemirror_mode": {
    "name": "ipython",
    "version": 3
   },
   "file_extension": ".py",
   "mimetype": "text/x-python",
   "name": "python",
   "nbconvert_exporter": "python",
   "pygments_lexer": "ipython3",
   "version": "3.6.5"
  }
 },
 "nbformat": 4,
 "nbformat_minor": 2
}
